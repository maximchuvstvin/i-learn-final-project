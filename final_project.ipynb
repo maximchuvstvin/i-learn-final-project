{
 "cells": [
  {
   "cell_type": "code",
   "execution_count": 24,
   "metadata": {},
   "outputs": [],
   "source": [
    "import pandas as pd\n",
    "import sqlite3"
   ]
  },
  {
   "cell_type": "markdown",
   "metadata": {},
   "source": [
    "## Connection to the database"
   ]
  },
  {
   "cell_type": "code",
   "execution_count": 25,
   "metadata": {},
   "outputs": [
    {
     "name": "stdout",
     "output_type": "stream",
     "text": [
      "[('dim_customer',), ('dim_product',), ('fact_pre_discount',), ('fact_manufacturing_cost',), ('fact_gross_price',), ('fact_sales_monthly',)]\n"
     ]
    }
   ],
   "source": [
    "### connect to the database\n",
    "con = sqlite3.connect('atliq_db.sqlite3')\n",
    "\n",
    "### check all tables in the database\n",
    "cursor = con.cursor()\n",
    "cursor.execute(\"SELECT name FROM sqlite_master  WHERE type='table';\")\n",
    "print(cursor.fetchall())"
   ]
  },
  {
   "cell_type": "code",
   "execution_count": 26,
   "metadata": {},
   "outputs": [
    {
     "name": "stdout",
     "output_type": "stream",
     "text": [
      "<class 'pandas.core.frame.DataFrame'>\n",
      "RangeIndex: 67251 entries, 0 to 67250\n",
      "Data columns (total 5 columns):\n",
      " #   Column         Non-Null Count  Dtype  \n",
      "---  ------         --------------  -----  \n",
      " 0   date           67251 non-null  object \n",
      " 1   product_code   67251 non-null  object \n",
      " 2   customer_code  67250 non-null  float64\n",
      " 3   sold_quantity  67250 non-null  float64\n",
      " 4   fiscal_year    67250 non-null  float64\n",
      "dtypes: float64(3), object(2)\n",
      "memory usage: 2.6+ MB\n"
     ]
    }
   ],
   "source": [
    "\n",
    "### execute simple query in Python with your connection\n",
    "query=\"\"\"Select * from \n",
    "fact_sales_monthly\n",
    "-- LIMIT 10\n",
    "\"\"\"\n",
    "dim_customer=pd.read_sql_query(query, con)\n",
    "dim_customer.info()"
   ]
  },
  {
   "cell_type": "code",
   "execution_count": 27,
   "metadata": {},
   "outputs": [
    {
     "name": "stdout",
     "output_type": "stream",
     "text": [
      "dim_customer\n",
      "<class 'pandas.core.frame.DataFrame'>\n",
      "RangeIndex: 209 entries, 0 to 208\n",
      "Data columns (total 7 columns):\n",
      " #   Column         Non-Null Count  Dtype \n",
      "---  ------         --------------  ----- \n",
      " 0   customer_code  209 non-null    int64 \n",
      " 1   customer       209 non-null    object\n",
      " 2   platform       209 non-null    object\n",
      " 3   channel        209 non-null    object\n",
      " 4   market         209 non-null    object\n",
      " 5   sub_zone       209 non-null    object\n",
      " 6   region         209 non-null    object\n",
      "dtypes: int64(1), object(6)\n",
      "memory usage: 11.6+ KB\n",
      "\n",
      "dim_product\n",
      "<class 'pandas.core.frame.DataFrame'>\n",
      "RangeIndex: 397 entries, 0 to 396\n",
      "Data columns (total 6 columns):\n",
      " #   Column        Non-Null Count  Dtype \n",
      "---  ------        --------------  ----- \n",
      " 0   product_code  397 non-null    object\n",
      " 1   division      397 non-null    object\n",
      " 2   segment       397 non-null    object\n",
      " 3   category      397 non-null    object\n",
      " 4   product       397 non-null    object\n",
      " 5   variant       397 non-null    object\n",
      "dtypes: object(6)\n",
      "memory usage: 18.7+ KB\n",
      "\n",
      "fact_pre_discount\n",
      "<class 'pandas.core.frame.DataFrame'>\n",
      "RangeIndex: 1045 entries, 0 to 1044\n",
      "Data columns (total 3 columns):\n",
      " #   Column                    Non-Null Count  Dtype  \n",
      "---  ------                    --------------  -----  \n",
      " 0   customer_code             1045 non-null   int64  \n",
      " 1   fiscal_year               1045 non-null   int64  \n",
      " 2   pre_invoice_discount_pct  1045 non-null   float64\n",
      "dtypes: float64(1), int64(2)\n",
      "memory usage: 24.6 KB\n",
      "\n",
      "fact_manufacturing_cost\n",
      "<class 'pandas.core.frame.DataFrame'>\n",
      "RangeIndex: 1182 entries, 0 to 1181\n",
      "Data columns (total 3 columns):\n",
      " #   Column              Non-Null Count  Dtype  \n",
      "---  ------              --------------  -----  \n",
      " 0   product_code        1182 non-null   object \n",
      " 1   cost_year           1182 non-null   int64  \n",
      " 2   manufacturing_cost  1182 non-null   float64\n",
      "dtypes: float64(1), int64(1), object(1)\n",
      "memory usage: 27.8+ KB\n",
      "\n",
      "fact_gross_price\n",
      "<class 'pandas.core.frame.DataFrame'>\n",
      "RangeIndex: 1182 entries, 0 to 1181\n",
      "Data columns (total 3 columns):\n",
      " #   Column        Non-Null Count  Dtype  \n",
      "---  ------        --------------  -----  \n",
      " 0   product_code  1182 non-null   object \n",
      " 1   fiscal_year   1182 non-null   int64  \n",
      " 2   gross_price   1182 non-null   float64\n",
      "dtypes: float64(1), int64(1), object(1)\n",
      "memory usage: 27.8+ KB\n",
      "\n",
      "fact_sales_monthly\n",
      "<class 'pandas.core.frame.DataFrame'>\n",
      "RangeIndex: 67251 entries, 0 to 67250\n",
      "Data columns (total 5 columns):\n",
      " #   Column         Non-Null Count  Dtype  \n",
      "---  ------         --------------  -----  \n",
      " 0   date           67251 non-null  object \n",
      " 1   product_code   67251 non-null  object \n",
      " 2   customer_code  67250 non-null  float64\n",
      " 3   sold_quantity  67250 non-null  float64\n",
      " 4   fiscal_year    67250 non-null  float64\n",
      "dtypes: float64(3), object(2)\n",
      "memory usage: 2.6+ MB\n",
      "\n"
     ]
    }
   ],
   "source": [
    "cursor.execute(\"SELECT name FROM sqlite_master  WHERE type='table';\")\n",
    "for tbl in cursor.fetchall():\n",
    "    query_all = \"\"\"Select * from \"\"\" + str(tbl[0])\n",
    "    print(str(tbl[0]))\n",
    "    pd.read_sql_query(query_all, con).info()\n",
    "    print()"
   ]
  },
  {
   "cell_type": "code",
   "execution_count": null,
   "metadata": {},
   "outputs": [],
   "source": []
  }
 ],
 "metadata": {
  "kernelspec": {
   "display_name": "base",
   "language": "python",
   "name": "python3"
  },
  "language_info": {
   "codemirror_mode": {
    "name": "ipython",
    "version": 3
   },
   "file_extension": ".py",
   "mimetype": "text/x-python",
   "name": "python",
   "nbconvert_exporter": "python",
   "pygments_lexer": "ipython3",
   "version": "3.11.4"
  }
 },
 "nbformat": 4,
 "nbformat_minor": 2
}
